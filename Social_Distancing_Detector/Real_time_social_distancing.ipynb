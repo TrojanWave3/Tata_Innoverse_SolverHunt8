{
  "nbformat": 4,
  "nbformat_minor": 0,
  "metadata": {
    "kernelspec": {
      "display_name": "Python 3",
      "language": "python",
      "name": "python3"
    },
    "language_info": {
      "codemirror_mode": {
        "name": "ipython",
        "version": 3
      },
      "file_extension": ".py",
      "mimetype": "text/x-python",
      "name": "python",
      "nbconvert_exporter": "python",
      "pygments_lexer": "ipython3",
      "version": "3.7.7"
    },
    "colab": {
      "name": "Real_time_social_distancing.ipynb",
      "provenance": [],
      "collapsed_sections": []
    }
  },
  "cells": [
    {
      "cell_type": "markdown",
      "metadata": {
        "id": "wA0U_PzuNo2E",
        "colab_type": "text"
      },
      "source": [
        "### Real time social distancing\n",
        "\n",
        "\n",
        "<p align=\"center\"><img src=\"https://www.analyticsinsight.net/wp-content/uploads/2020/04/Social-distancing-illustration.jpg\" width=\"50%\"/></p>"
      ]
    },
    {
      "cell_type": "markdown",
      "metadata": {
        "id": "Ofb0QaQpNo2H",
        "colab_type": "text"
      },
      "source": [
        "### Steps"
      ]
    },
    {
      "cell_type": "markdown",
      "metadata": {
        "id": "4hZb5fOVNo2S",
        "colab_type": "text"
      },
      "source": [
        "<p align=\"center\"><img src=\"https://www.pyimagesearch.com/wp-content/uploads/2020/05/social_distance_detector_steps.png\" width=\"50%\"/>\n",
        "\n",
        "\n",
        "#### Reference\n",
        "\n",
        "* [PyimageSearch - social distance detector steps](https://www.pyimagesearch.com/wp-content/uploads/2020/05/social_distance_detector_steps.png)"
      ]
    },
    {
      "cell_type": "markdown",
      "metadata": {
        "id": "bFfgb1FFNo2U",
        "colab_type": "text"
      },
      "source": [
        "### Dataloader"
      ]
    },
    {
      "cell_type": "code",
      "metadata": {
        "id": "W6eOKPFMNo2W",
        "colab_type": "code",
        "colab": {}
      },
      "source": [
        "# base path to YOLO directory\n",
        "MODEL_PATH = \"./yolo-coco\"\n",
        "\n",
        "'''\n",
        "# initialize minimum probability to filter weak detections along with\n",
        "# the threshold when applying non-maxima suppression\n",
        "'''\n",
        "\n",
        "MIN_CONF = 0.3    # minimum object detection confidence\n",
        "NMS_THRESH = 0.3  # non-maxima suppression threshold\n",
        "\n",
        "# boolean indicating if NVIDIA CUDA GPU should be used\n",
        "USE_GPU = False\n",
        "\n",
        "# define the minimum safe distance (in pixels) that two people can be\n",
        "# from each other\n",
        "MIN_DISTANCE = 50"
      ],
      "execution_count": null,
      "outputs": []
    },
    {
      "cell_type": "markdown",
      "metadata": {
        "id": "ucv-vegWNo2n",
        "colab_type": "text"
      },
      "source": [
        "### YOLO object detector to detect people in our video stream "
      ]
    },
    {
      "cell_type": "markdown",
      "metadata": {
        "id": "SAfwoW_-No2p",
        "colab_type": "text"
      },
      "source": [
        "#### 1. Import package"
      ]
    },
    {
      "cell_type": "code",
      "metadata": {
        "id": "s35TRnUaNo2r",
        "colab_type": "code",
        "colab": {}
      },
      "source": [
        "from scipy.spatial import distance as dist\n",
        "import numpy as np\n",
        "import imutils\n",
        "import cv2\n",
        "import os"
      ],
      "execution_count": null,
      "outputs": []
    },
    {
      "cell_type": "markdown",
      "metadata": {
        "id": "T4zxvFmqNo21",
        "colab_type": "text"
      },
      "source": [
        "### Define detection method"
      ]
    },
    {
      "cell_type": "markdown",
      "metadata": {
        "id": "C_zvPqhDNo22",
        "colab_type": "text"
      },
      "source": [
        "\n",
        "**frame** : The frame from your video file or directly from your webcam <br/>\n",
        "**net**: The pre-initialized and pre-trained YOLO object detection model <br/>\n",
        "**ln**: The YOLO CNN output layer names <br/>\n",
        "**personIdx**: The YOLO model can detect many types of objects; this index is specifically for the person class, as we won’t be considering other objects\n"
      ]
    },
    {
      "cell_type": "markdown",
      "metadata": {
        "id": "dHEOr6kbNo22",
        "colab_type": "text"
      },
      "source": [
        "       results : 1. person prediction probability\n",
        "                 2. bounding box coordinates for the detection\n",
        "                 3. the centroid of the object."
      ]
    },
    {
      "cell_type": "code",
      "metadata": {
        "id": "y38DdqdDNo23",
        "colab_type": "code",
        "colab": {}
      },
      "source": [
        "def detect_people(frame, net, ln, personIdx=0):\n",
        "    # grab the dimensions of the frame and  initialize the list of\n",
        "    # results\n",
        "    (H, W) = frame.shape[:2]\n",
        "    results = []\n",
        "\n",
        "    # construct a blob from the input frame and then perform a forward\n",
        "    # pass of the YOLO object detector, giving us our bounding boxes\n",
        "    # and associated probabilities\n",
        "    blob = cv2.dnn.blobFromImage(frame, 1 / 255.0, (416, 416),\n",
        "        swapRB=True, crop=False)\n",
        "    net.setInput(blob)\n",
        "    layerOutputs = net.forward(ln)\n",
        "\n",
        "    # initialize our lists of detected bounding boxes, centroids, and\n",
        "    # confidences, respectively\n",
        "    boxes = []\n",
        "    centroids = []\n",
        "    confidences = []\n",
        "\n",
        "    # loop over each of the layer outputs\n",
        "    for output in layerOutputs:\n",
        "        # loop over each of the detections\n",
        "        for detection in output:\n",
        "            # extract the class ID and confidence (i.e., probability)\n",
        "            # of the current object detection\n",
        "            scores = detection[5:]\n",
        "            classID = np.argmax(scores)\n",
        "            confidence = scores[classID]\n",
        "            \n",
        "            # filter detections by (1) ensuring that the object\n",
        "            # detected was a person and (2) that the minimum\n",
        "            # confidence is met\n",
        "            if classID == personIdx and confidence > MIN_CONF:\n",
        "                # scale the bounding box coordinates back relative to\n",
        "                # the size of the image, keeping in mind that YOLO\n",
        "                # actually returns the center (x, y)-coordinates of\n",
        "                # the bounding box followed by the boxes' width and\n",
        "                # height\n",
        "                box = detection[0:4] * np.array([W, H, W, H])\n",
        "                (centerX, centerY, width, height) = box.astype(\"int\")\n",
        "\n",
        "                # use the center (x, y)-coordinates to derive the top\n",
        "                # and and left corner of the bounding box\n",
        "                x = int(centerX - (width / 2))\n",
        "                y = int(centerY - (height / 2))\n",
        "\n",
        "                # update our list of bounding box coordinates,\n",
        "                # centroids, and confidences\n",
        "                boxes.append([x, y, int(width), int(height)])\n",
        "                centroids.append((centerX, centerY))\n",
        "                confidences.append(float(confidence))\n",
        "    \n",
        "    # apply non-maxima suppression to suppress weak, overlapping\n",
        "    # bounding boxes\n",
        "    idxs = cv2.dnn.NMSBoxes(boxes, confidences, MIN_CONF, NMS_THRESH)\n",
        "    \n",
        "    # ensure at least one detection exists\n",
        "    if len(idxs) > 0:\n",
        "        # loop over the indexes we are keeping\n",
        "        for i in idxs.flatten():\n",
        "            # extract the bounding box coordinates\n",
        "            (x, y) = (boxes[i][0], boxes[i][1])\n",
        "            (w, h) = (boxes[i][2], boxes[i][3])\n",
        "            \n",
        "            # update our results list to consist of the person\n",
        "            # prediction probability, bounding box coordinates,\n",
        "            # and the centroid\n",
        "            r = (confidences[i], (x, y, x + w, y + h), centroids[i])\n",
        "            results.append(r)\n",
        "\n",
        "    # return the list of results\n",
        "    return results"
      ],
      "execution_count": null,
      "outputs": []
    },
    {
      "cell_type": "code",
      "metadata": {
        "id": "AvpdAZPQNo3K",
        "colab_type": "code",
        "colab": {},
        "outputId": "79b4282d-22c6-4204-f70b-e62a6599c362"
      },
      "source": [
        "import os\n",
        "os.listdir('./yolo-coco')"
      ],
      "execution_count": null,
      "outputs": [
        {
          "output_type": "execute_result",
          "data": {
            "text/plain": [
              "['coco.names', 'yolov3.cfg', 'yolov3.weights']"
            ]
          },
          "metadata": {
            "tags": []
          },
          "execution_count": 6
        }
      ]
    },
    {
      "cell_type": "code",
      "metadata": {
        "id": "j8BL0zAhNo3T",
        "colab_type": "code",
        "colab": {},
        "outputId": "9f9ebcf9-021f-43a7-d320-77433380e41e"
      },
      "source": [
        "# load the COCO class labels our YOLO model was trained on\n",
        "\n",
        "labelsPath = './yolo-coco/coco.names'\n",
        "LABELS = open(labelsPath).read().strip().split(\"\\n\")\n",
        "\n",
        "print(LABELS[0])"
      ],
      "execution_count": null,
      "outputs": [
        {
          "output_type": "stream",
          "text": [
            "person\n"
          ],
          "name": "stdout"
        }
      ]
    },
    {
      "cell_type": "code",
      "metadata": {
        "id": "sWbsaMp7No3Z",
        "colab_type": "code",
        "colab": {}
      },
      "source": [
        "# derive the paths to the YOLO weights and model configuration\n",
        "weightsPath = './yolo-coco/yolov3.weights'\n",
        "configPath = './yolo-coco/yolov3.cfg'"
      ],
      "execution_count": null,
      "outputs": []
    },
    {
      "cell_type": "code",
      "metadata": {
        "id": "wqjeIzffNo3j",
        "colab_type": "code",
        "colab": {},
        "outputId": "dd8d18b8-44a6-4fea-c90d-042900aa3f3c"
      },
      "source": [
        "# load our YOLO object detector trained on COCO dataset (80 classes)\n",
        "print(\"[INFO] loading YOLO from disk...\")\n",
        "net = cv2.dnn.readNetFromDarknet(configPath, weightsPath)"
      ],
      "execution_count": null,
      "outputs": [
        {
          "output_type": "stream",
          "text": [
            "[INFO] loading YOLO from disk...\n"
          ],
          "name": "stdout"
        }
      ]
    },
    {
      "cell_type": "code",
      "metadata": {
        "id": "Z9PbGlFNNo3s",
        "colab_type": "code",
        "colab": {}
      },
      "source": [
        "# determine only the *output* layer names that we need from YOLO\n",
        "ln = net.getLayerNames()\n",
        "ln = [ln[i[0] - 1] for i in net.getUnconnectedOutLayers()]"
      ],
      "execution_count": null,
      "outputs": []
    },
    {
      "cell_type": "markdown",
      "metadata": {
        "id": "raWE78CQNo30",
        "colab_type": "text"
      },
      "source": [
        "### Processing frames and determining if people are maintaining safe social distance"
      ]
    },
    {
      "cell_type": "code",
      "metadata": {
        "id": "JgM66yHMNo31",
        "colab_type": "code",
        "colab": {},
        "outputId": "f0a997e5-3eb2-4318-9ec0-5c2a07e48dee"
      },
      "source": [
        "# initialize the video stream and pointer to output video file\n",
        "print(\"[INFO] accessing video stream...\")\n",
        "cap = cv2.VideoCapture('Pedestrian-02.mp4')\n",
        "writer = None\n",
        "\n",
        "# loop over the frames from the video stream\n",
        "while True:\n",
        "    \n",
        "    # read the next frame from the file\n",
        "    (grabbed, frame) = cap.read()\n",
        "    \n",
        "    # if the frame was not grabbed, then we have reached the end\n",
        "    # of the stream\n",
        "    if not grabbed:\n",
        "        break\n",
        "    \n",
        "    # resize the frame and then detect people (and only people) in it\n",
        "    frame = imutils.resize(frame, width=700)\n",
        "    results = detect_people(frame, net, ln,\n",
        "                            personIdx=LABELS.index(\"person\"))\n",
        "    # initialize the set of indexes that violate the minimum social\n",
        "    # distance\n",
        "    violate = set()\n",
        "    \n",
        "    # ensure there are *at least* two people detections (required in\n",
        "    # order to compute our pairwise distance maps)\n",
        "    if len(results) >= 2:\n",
        "        \n",
        "        # extract all centroids from the results and compute the\n",
        "        # Euclidean distances between all pairs of the centroids\n",
        "        \n",
        "        centroids = np.array([r[2] for r in results])\n",
        "        D = dist.cdist(centroids, centroids, metric=\"euclidean\")\n",
        "        \n",
        "        # loop over the upper triangular of the distance matrix\n",
        "        for i in range(0, D.shape[0]):\n",
        "            for j in range(i + 1, D.shape[1]):\n",
        "                # check to see if the distance between any two\n",
        "                # centroid pairs is less than the configured number\n",
        "                # of pixels\n",
        "                if D[i, j] < config.MIN_DISTANCE:\n",
        "                    # update our violation set with the indexes of\n",
        "                    # the centroid pairs\n",
        "                    violate.add(i)\n",
        "                    violate.add(j)\n",
        "    \n",
        "    # loop over the results\n",
        "    for (i, (prob, bbox, centroid)) in enumerate(results):\n",
        "        # extract the bounding box and centroid coordinates, then\n",
        "        # initialize the color of the annotation\n",
        "        (startX, startY, endX, endY) = bbox\n",
        "        (cX, cY) = centroid\n",
        "        color = (0, 255, 0)\n",
        "        # if the index pair exists within the violation set, then\n",
        "        # update the color\n",
        "        if i in violate:\n",
        "            color = (0, 0, 255)\n",
        "        # draw (1) a bounding box around the person and (2) the\n",
        "        # centroid coordinates of the person,\n",
        "        \n",
        "        cv2.rectangle(frame, (startX, startY), (endX, endY), color, 2)\n",
        "        cv2.circle(frame, (cX, cY), 5, color, 1)\n",
        "    # draw the total number of social distancing violations on the\n",
        "    # output frame\n",
        "    \n",
        "    text = \"Social Distancing Violations: {}\".format(len(violate))\n",
        "    cv2.putText(frame, text, (10, frame.shape[0] - 25),\n",
        "                cv2.FONT_HERSHEY_SIMPLEX, 0.85, (0, 0, 255), 3)\n",
        "    \n",
        "    # check to see if the output frame should be displayed to our\n",
        "    # screen\n",
        "    \n",
        "    cv2.imshow(\"Frame\", frame)\n",
        "    \n",
        "    key = cv2.waitKey(1) & 0xFF\n",
        "    if key == ord(\"q\"):\n",
        "        break\n",
        "    \n",
        "    if writer is None:\n",
        "        # initialize our video writer\n",
        "        fourcc = cv2.VideoWriter_fourcc(*\"MJPG\")\n",
        "        writer = cv2.VideoWriter('Social_distancing_result.mp4', fourcc, 25,\n",
        "                                 (frame.shape[1], frame.shape[0]), True)\n",
        "    # if the video writer is not None, write the frame to the output\n",
        "    # video file\n",
        "    if writer is not None:\n",
        "        writer.write(frame)    "
      ],
      "execution_count": null,
      "outputs": [
        {
          "output_type": "stream",
          "text": [
            "[INFO] accessing video stream...\n"
          ],
          "name": "stdout"
        }
      ]
    },
    {
      "cell_type": "markdown",
      "metadata": {
        "id": "vTqnyQlJODsw",
        "colab_type": "text"
      },
      "source": [
        "### Reference \n",
        "\n",
        "* [PyimageSearch - find distance camera objectmarker using python opencv](https://www.pyimagesearch.com/2015/01/19/find-distance-camera-objectmarker-using-python-opencv/)\n",
        "\n",
        "* [PyimageSearch - non maximum suppression object detection python](https://www.pyimagesearch.com/2014/11/17/non-maximum-suppression-object-detection-python/)\n",
        "\n",
        "* [PyimageSearch - yolo object detection with opencv](https://www.pyimagesearch.com/2018/11/12/yolo-object-detection-with-opencv/)\n",
        "\n",
        "* [PyimageSearch - How opencv blobfromimage works](https://www.pyimagesearch.com/2017/11/06/deep-learning-opencvs-blobfromimage-works/)\n",
        "\n",
        "* [PyimageSearch - opencv social distancing detector](https://www.pyimagesearch.com/2020/06/01/opencv-social-distancing-detector/)"
      ]
    },
    {
      "cell_type": "code",
      "metadata": {
        "id": "ks6KR6ZtNo4I",
        "colab_type": "code",
        "colab": {}
      },
      "source": [
        ""
      ],
      "execution_count": null,
      "outputs": []
    }
  ]
}